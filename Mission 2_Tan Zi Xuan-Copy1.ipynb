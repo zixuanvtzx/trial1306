{
 "cells": [
  {
   "cell_type": "code",
   "execution_count": null,
   "id": "18755c41",
   "metadata": {},
   "outputs": [],
   "source": [
    "Question 1: bin_to_den - for loop\n",
    "View Past Answers\n",
    "No past answers.\n",
    "Define function bin_to_den to convert a binary number (string type) to denary number (integer type).\n",
    "\n",
    "Implement using for loop."
   ]
  },
  {
   "cell_type": "code",
   "execution_count": 1,
   "id": "963f16d5",
   "metadata": {},
   "outputs": [
    {
     "name": "stdout",
     "output_type": "stream",
     "text": [
      "15\n",
      "254\n"
     ]
    }
   ],
   "source": [
    "def bin_to_den(s):\n",
    "    results = 0\n",
    "    count = len(s) - 1 \n",
    "\n",
    "    for num in s:\n",
    "        results += int(num) * 2 ** count\n",
    "        count -= 1\n",
    "    return results\n",
    "    \n",
    "print(bin_to_den(\"1111\"))\n",
    "print(bin_to_den(\"11111110\"))"
   ]
  },
  {
   "cell_type": "code",
   "execution_count": 7,
   "id": "92cf7f25",
   "metadata": {},
   "outputs": [
    {
     "ename": "SyntaxError",
     "evalue": "invalid syntax (<ipython-input-7-1d5ff8394387>, line 1)",
     "output_type": "error",
     "traceback": [
      "\u001b[1;36m  File \u001b[1;32m\"<ipython-input-7-1d5ff8394387>\"\u001b[1;36m, line \u001b[1;32m1\u001b[0m\n\u001b[1;33m    bin_to_den(\"101\")\t5\u001b[0m\n\u001b[1;37m                     \t^\u001b[0m\n\u001b[1;31mSyntaxError\u001b[0m\u001b[1;31m:\u001b[0m invalid syntax\n"
     ]
    }
   ],
   "source": [
    "bin_to_den(\"101\")\t5\t\n",
    "bin_to_den(\"1111\")\t15\t\n",
    "bin_to_den(\"11111110\")\t254"
   ]
  },
  {
   "cell_type": "code",
   "execution_count": null,
   "id": "311aea6f",
   "metadata": {},
   "outputs": [],
   "source": [
    "Question 2: bin_to_den - while loop\n",
    "View Past Answers\n",
    "No past answers.\n",
    "Define function bin_to_den to convert a binary number (string type) to denary number (integer type).\n",
    "\n",
    "Implement using while loop."
   ]
  },
  {
   "cell_type": "code",
   "execution_count": 8,
   "id": "bac4c5e3",
   "metadata": {},
   "outputs": [
    {
     "name": "stdout",
     "output_type": "stream",
     "text": [
      "15\n",
      "254\n"
     ]
    }
   ],
   "source": [
    "def bin_to_den(s):\n",
    "    s = s[::-1]\n",
    "    result = 0\n",
    "    count = 0\n",
    "    while count < len(s):\n",
    "        result += int(s[count]) * 2 ** count \n",
    "        count += 1   \n",
    "    return result \n",
    "\n",
    "print(bin_to_den(\"1111\"))    \n",
    "print(bin_to_den(\"11111110\"))"
   ]
  },
  {
   "cell_type": "code",
   "execution_count": null,
   "id": "14e57fe3",
   "metadata": {},
   "outputs": [],
   "source": [
    "bin_to_den(\"101\")\t5\t\n",
    "bin_to_den(\"1111\")\t15\t\n",
    "bin_to_den(\"11111110\")\t254"
   ]
  },
  {
   "cell_type": "code",
   "execution_count": null,
   "id": "31c47a40",
   "metadata": {},
   "outputs": [],
   "source": [
    "Question 3: bin_to_den - recursion\n",
    "View Past Answers\n",
    "No past answers.\n",
    "Define function bin_to_den to convert a binary number (string type) to denary number (integer type).\n",
    "\n",
    "Implement using recursion."
   ]
  },
  {
   "cell_type": "code",
   "execution_count": 9,
   "id": "fc4ef61b",
   "metadata": {},
   "outputs": [
    {
     "name": "stdout",
     "output_type": "stream",
     "text": [
      "15\n",
      "254\n"
     ]
    }
   ],
   "source": [
    "def bin_to_den(s):\n",
    "    s = s[::-1]\n",
    "    lst = []\n",
    "    for i in range(len(s)):\n",
    "        lst.append([int(s[i]), i])\n",
    "    # print(lst)\n",
    "    \n",
    "    def helper(lstt):\n",
    "        if len(lstt) == 0:\n",
    "            return 0\n",
    "        else:\n",
    "            return int(lstt[0][0]) * (2 ** lstt[0][1]) + helper(lstt[1:])\n",
    "    return helper(lst)\n",
    " \n",
    "print(bin_to_den(\"1111\"))    \n",
    "print(bin_to_den(\"11111110\"))"
   ]
  },
  {
   "cell_type": "code",
   "execution_count": null,
   "id": "9920af00",
   "metadata": {},
   "outputs": [],
   "source": [
    "bin_to_den(\"101\")\t5\t\n",
    "bin_to_den(\"1111\")\t15\t\n",
    "bin_to_den(\"11111110\")\t254"
   ]
  },
  {
   "cell_type": "code",
   "execution_count": 1,
   "id": "2f352986",
   "metadata": {},
   "outputs": [
    {
     "ename": "SyntaxError",
     "evalue": "invalid syntax (<ipython-input-1-e59495f9c077>, line 1)",
     "output_type": "error",
     "traceback": [
      "\u001b[1;36m  File \u001b[1;32m\"<ipython-input-1-e59495f9c077>\"\u001b[1;36m, line \u001b[1;32m1\u001b[0m\n\u001b[1;33m    Question 4: den_to_bin - while loop\u001b[0m\n\u001b[1;37m             ^\u001b[0m\n\u001b[1;31mSyntaxError\u001b[0m\u001b[1;31m:\u001b[0m invalid syntax\n"
     ]
    }
   ],
   "source": [
    "Question 4: den_to_bin - while loop\n",
    "View Past Answers\n",
    "No past answers.\n",
    "Define function den_to_bin to convert a denary number (integer type) to binary number (string type).\n",
    "\n",
    "Implement using while loop."
   ]
  },
  {
   "cell_type": "code",
   "execution_count": 11,
   "id": "6cebf1a9",
   "metadata": {},
   "outputs": [
    {
     "name": "stdout",
     "output_type": "stream",
     "text": [
      "1111\n"
     ]
    }
   ],
   "source": [
    "import math\n",
    "\n",
    "def den_to_bin(n):\n",
    "    result = \"\"\n",
    "    while n > 0:\n",
    "        if n % 2 == 1: # leaves remainder\n",
    "            result += \"1\"\n",
    "            n = math.floor(n/2)\n",
    "        else:\n",
    "            n = int(n / 2)\n",
    "            result += \"0\"\n",
    "    return result[::-1] \n",
    "\n",
    "print(den_to_bin(15)) "
   ]
  },
  {
   "cell_type": "code",
   "execution_count": null,
   "id": "1697a979",
   "metadata": {},
   "outputs": [],
   "source": [
    "den_to_bin(5)\t\"101\"\t\n",
    "den_to_bin(15)\t\"1111\"\t\n",
    "den_to_bin(254)\t\"11111110\""
   ]
  },
  {
   "cell_type": "code",
   "execution_count": null,
   "id": "3d9a95cc",
   "metadata": {},
   "outputs": [],
   "source": [
    "Question 5: den_to_bin - recursion\n",
    "View Past Answers\n",
    "No past answers.\n",
    "Define function den_to_bin to convert a denary number (integer type) to binary number (string type).\n",
    "\n",
    "Implement using recursion."
   ]
  },
  {
   "cell_type": "code",
   "execution_count": 12,
   "id": "1f173aa5",
   "metadata": {},
   "outputs": [
    {
     "name": "stdout",
     "output_type": "stream",
     "text": [
      "101\n"
     ]
    }
   ],
   "source": [
    "import math \n",
    "\n",
    "def den_to_bin(s):\n",
    "    def helper(ss):\n",
    "        if ss == 0:\n",
    "            return \"0\"\n",
    "        elif ss == 1:\n",
    "            return \"1\"\n",
    "        else:\n",
    "            if ss % 2 == 1: # leaves remainder\n",
    "                return \"1\" + helper(math.floor(ss / 2))\n",
    "            else:\n",
    "                return \"0\" + helper(int(ss / 2))\n",
    "            \n",
    "    return helper(s)[::-1]\n",
    " \n",
    "print(den_to_bin(5))    "
   ]
  },
  {
   "cell_type": "code",
   "execution_count": null,
   "id": "10028c83",
   "metadata": {},
   "outputs": [],
   "source": [
    "den_to_bin(5)\t\"101\"\t\n",
    "den_to_bin(15)\t\"1111\"\t\n",
    "den_to_bin(254)\t\"11111110\""
   ]
  },
  {
   "cell_type": "code",
   "execution_count": null,
   "id": "d1e02b1a",
   "metadata": {},
   "outputs": [],
   "source": [
    "Question 6: value_to_symbol and symbol_to_value\n",
    "View Past Answers\n",
    "No past answers.\n",
    "Given \n",
    "\n",
    "valid_digits = \"0123456789ABCDEFGHIJKLMNOPQRSTUVWXYZ\"\n",
    "\n",
    "Define function value_to_symbol to convert a denary value to its corresponding symbol:\n",
    "\n",
    "For example, 7 to \"7\", 15 to \"F\", 26 to \"Q\".\n",
    "\n",
    "Define another function symbol_to_value to convert a symbol to its corresponding denary value:\n",
    "\n",
    "For example, \"7\" to 7, \"F\" to 15, \"Q\" to 26."
   ]
  },
  {
   "cell_type": "code",
   "execution_count": 13,
   "id": "9e4e1f64",
   "metadata": {},
   "outputs": [
    {
     "name": "stdout",
     "output_type": "stream",
     "text": [
      "F\n",
      "15\n"
     ]
    }
   ],
   "source": [
    "valid_digits = \"0123456789ABCDEFGHIJKLMNOPQRSTUVWXYZ\"\n",
    "def value_to_symbol(n):\n",
    "    return valid_digits[n]\n",
    "\n",
    "def symbol_to_value(n):\n",
    "    return valid_digits.index(n)\n",
    "\n",
    "print(value_to_symbol(15))\n",
    "print(symbol_to_value(\"F\"))\n",
    "\n"
   ]
  },
  {
   "cell_type": "code",
   "execution_count": null,
   "id": "0027ef3f",
   "metadata": {},
   "outputs": [],
   "source": [
    "value_to_symbol(7)\t\"7\"\t\n",
    "value_to_symbol(15)\t\"F\"\t\n",
    "value_to_symbol(26)\t\"Q\"\t\n",
    "symbol_to_value(\"7\")\t7\t\n",
    "symbol_to_value(\"F\")\t15\t\n",
    "symbol_to_value(\"Q\")\t26\t"
   ]
  },
  {
   "cell_type": "code",
   "execution_count": null,
   "id": "87e8a877",
   "metadata": {},
   "outputs": [],
   "source": [
    "Question 7: any_to_den(any_num, base)\n",
    "View Past Answers\n",
    "No past answers.\n",
    "Define recursive function any_to_den(any_num, base), which convert any_num in base base to its denary value."
   ]
  },
  {
   "cell_type": "code",
   "execution_count": null,
   "id": "381a3b31",
   "metadata": {},
   "outputs": [],
   "source": [
    "hexa = \"0123456789ABCDEF\"\n",
    "\n",
    "def any_to_den(any_num, base):  \n",
    "    length = len(any_num) \n",
    "    \n",
    "    if len(any_num) == 0:\n",
    "        return 0\n",
    "    else:\n",
    "        num = hexa.index(any_num[::-1][0])\n",
    "        if (length - 2) == 0:\n",
    "            res = 0\n",
    "        else:\n",
    "            res = length\n",
    "        \n",
    "        return (num * (base ** res)) + any_to_den(any_num[::-1][1:], base)\n",
    "\n",
    "print(any_to_den(\"FE\", 16))\n",
    "print(any_to_den(\"57\", 8))\n",
    "print(any_to_den(\"11111100\", 2))\n",
    "print(any_to_den(\"1100\", 2))"
   ]
  },
  {
   "cell_type": "code",
   "execution_count": null,
   "id": "5f2cc263",
   "metadata": {},
   "outputs": [],
   "source": [
    "any_to_den(\"FE\", 16)\t254\t\n",
    "any_to_den(\"57\", 8)\t47\t\n",
    "any_to_den(\"FE\", 25)\t389"
   ]
  },
  {
   "cell_type": "code",
   "execution_count": null,
   "id": "48f7d17a",
   "metadata": {},
   "outputs": [],
   "source": [
    "Question 8: den_to_any(den_num, base)\n",
    "View Past Answers\n",
    "No past answers.\n",
    "Define recursive function den_to_any(den_num, base), which convert den_num to a number in base base ."
   ]
  },
  {
   "cell_type": "code",
   "execution_count": 76,
   "id": "e91cdd45",
   "metadata": {},
   "outputs": [
    {
     "name": "stdout",
     "output_type": "stream",
     "text": [
      "FE\n",
      "57\n",
      "14\n"
     ]
    }
   ],
   "source": [
    "hexa = \"0123456789ABCDEF\"\n",
    "\n",
    "def den_to_any(any_num, base):  \n",
    "    def helper():\n",
    "        if any_num == 0:\n",
    "            return \"\"\n",
    "        else:\n",
    "            \n",
    "            any_num2 = any_num // base\n",
    "            remainder = any_num % base\n",
    "            num = hexa[remainder]\n",
    "            return num + den_to_any(any_num2, base)\n",
    "    return helper()[::-1]\n",
    "\n",
    "print(den_to_any(254, 16))\n",
    "print(den_to_any(47, 8))\n",
    "print(den_to_any(12, 8))"
   ]
  },
  {
   "cell_type": "code",
   "execution_count": null,
   "id": "e2e30928",
   "metadata": {},
   "outputs": [],
   "source": [
    "den_to_any(254, 16)\t\"FE\"\t\n",
    "den_to_any(47, 8)\t\"57\"\t\n",
    "den_to_any(389, 25)\t\"FE\""
   ]
  },
  {
   "cell_type": "code",
   "execution_count": null,
   "id": "350b100c",
   "metadata": {},
   "outputs": [],
   "source": [
    "Question 9: bin_to_hex\n",
    "View Past Answers\n",
    "No past answers.\n",
    "Define function bin_to_hex which takes in a binary number and returns a hex number."
   ]
  },
  {
   "cell_type": "code",
   "execution_count": 46,
   "id": "6452b815",
   "metadata": {
    "scrolled": true
   },
   "outputs": [
    {
     "ename": "ValueError",
     "evalue": "'A' is not in list",
     "output_type": "error",
     "traceback": [
      "\u001b[1;31m---------------------------------------------------------------------------\u001b[0m",
      "\u001b[1;31mValueError\u001b[0m                                Traceback (most recent call last)",
      "\u001b[1;32m<ipython-input-46-440dc1580600>\u001b[0m in \u001b[0;36m<module>\u001b[1;34m\u001b[0m\n\u001b[0;32m      2\u001b[0m \u001b[1;33m\u001b[0m\u001b[0m\n\u001b[0;32m      3\u001b[0m \u001b[0mx\u001b[0m \u001b[1;33m=\u001b[0m \u001b[1;33m[\u001b[0m\u001b[1;33m[\u001b[0m\u001b[1;36m10\u001b[0m\u001b[1;33m,\u001b[0m \u001b[1;34m'A'\u001b[0m\u001b[1;33m]\u001b[0m\u001b[1;33m,\u001b[0m \u001b[1;33m[\u001b[0m\u001b[1;36m11\u001b[0m\u001b[1;33m,\u001b[0m \u001b[1;34m'B'\u001b[0m\u001b[1;33m]\u001b[0m\u001b[1;33m,\u001b[0m \u001b[1;33m[\u001b[0m\u001b[1;36m12\u001b[0m\u001b[1;33m,\u001b[0m \u001b[1;34m'C'\u001b[0m\u001b[1;33m]\u001b[0m\u001b[1;33m,\u001b[0m \u001b[1;33m[\u001b[0m\u001b[1;36m13\u001b[0m\u001b[1;33m,\u001b[0m \u001b[1;34m'D'\u001b[0m\u001b[1;33m]\u001b[0m\u001b[1;33m,\u001b[0m \u001b[1;33m[\u001b[0m\u001b[1;36m14\u001b[0m\u001b[1;33m,\u001b[0m \u001b[1;34m'E'\u001b[0m\u001b[1;33m]\u001b[0m\u001b[1;33m,\u001b[0m \u001b[1;33m[\u001b[0m\u001b[1;36m15\u001b[0m\u001b[1;33m,\u001b[0m \u001b[1;34m'F'\u001b[0m\u001b[1;33m]\u001b[0m\u001b[1;33m]\u001b[0m\u001b[1;33m\u001b[0m\u001b[0m\n\u001b[1;32m----> 4\u001b[1;33m \u001b[0mprint\u001b[0m\u001b[1;33m(\u001b[0m\u001b[0mx\u001b[0m\u001b[1;33m.\u001b[0m\u001b[0mindex\u001b[0m\u001b[1;33m(\u001b[0m\u001b[1;34m'A'\u001b[0m\u001b[1;33m)\u001b[0m\u001b[1;33m)\u001b[0m\u001b[1;33m\u001b[0m\u001b[0m\n\u001b[0m",
      "\u001b[1;31mValueError\u001b[0m: 'A' is not in list"
     ]
    }
   ],
   "source": [
    "ord(\"A\")\n",
    "\n",
    "x = [[10, 'A'], [11, 'B'], [12, 'C'], [13, 'D'], [14, 'E'], [15, 'F']]\n",
    "print(x.index('A'))"
   ]
  },
  {
   "cell_type": "code",
   "execution_count": 53,
   "id": "ba045a71",
   "metadata": {},
   "outputs": [
    {
     "name": "stdout",
     "output_type": "stream",
     "text": [
      "FC\n",
      "1FC\n",
      "7C\n"
     ]
    }
   ],
   "source": [
    "def get_alpha_and_hex():\n",
    "    lst = []\n",
    "    count = 0\n",
    "    for i in range(10, 16):\n",
    "        lst.append([i, chr(65 + count)])\n",
    "        count += 1\n",
    "    return lst\n",
    "\n",
    "#print(get_alpha_and_hex())\n",
    "\n",
    "def bin_to_den(s):\n",
    "    s = s[::-1]\n",
    "    lst = []\n",
    "    for i in range(len(s)):\n",
    "        lst.append([int(s[i]), i])\n",
    "    # print(lst)\n",
    "    \n",
    "    def helper(lstt):\n",
    "        if len(lstt) == 0:\n",
    "            return 0\n",
    "        else:\n",
    "            return int(lstt[0][0]) * (2 ** lstt[0][1]) + helper(lstt[1:])\n",
    "    return helper(lst)\n",
    "\n",
    "def bin_to_hex(binn):\n",
    "    lst = []\n",
    "    strr = \"\"\n",
    "    rbinn = binn[::-1]\n",
    "    while len(rbinn) != 0:\n",
    "        temp = rbinn[:4][::-1]\n",
    "        lst.append(temp)\n",
    "        denn = bin_to_den(temp) \n",
    "        rbinn = rbinn[4:]\n",
    "    #print(lst)\n",
    "    \n",
    "    for ele in lst:\n",
    "        denn = bin_to_den(ele) \n",
    "        if denn > 9:\n",
    "            for shortlst in get_alpha_and_hex():\n",
    "                if denn == shortlst[0]:\n",
    "                    strr = shortlst[1] + strr\n",
    "        else:\n",
    "            strr = str(denn) + strr\n",
    "    return strr\n",
    "print(bin_to_hex(\"11111100\"))\n",
    "print(bin_to_hex(\"111111100\"))\n",
    "print(bin_to_hex(\"1111100\"))"
   ]
  },
  {
   "cell_type": "code",
   "execution_count": 37,
   "id": "dd8b5158",
   "metadata": {},
   "outputs": [
    {
     "name": "stdout",
     "output_type": "stream",
     "text": [
      "1100\n"
     ]
    }
   ],
   "source": [
    "x = \"111111100\"\n",
    "y = x[::-1]\n",
    "print(y[:4][::-1])"
   ]
  },
  {
   "cell_type": "code",
   "execution_count": null,
   "id": "82e040fe",
   "metadata": {},
   "outputs": [],
   "source": [
    "bin_to_hex(\"11111100\")\t\"FC\"\t\n",
    "bin_to_hex(\"111111100\")\t\"1FC\"\t\n",
    "bin_to_hex(\"1111100\")\t\"7C\""
   ]
  },
  {
   "cell_type": "code",
   "execution_count": null,
   "id": "407fe106",
   "metadata": {},
   "outputs": [],
   "source": [
    "Question 10: hex_to_bin\n",
    "View Past Answers\n",
    "No past answers.\n",
    "Define function hex_to_bin which takes in a hex number and returns a binary number."
   ]
  },
  {
   "cell_type": "code",
   "execution_count": 66,
   "id": "3c9151ee",
   "metadata": {},
   "outputs": [
    {
     "name": "stdout",
     "output_type": "stream",
     "text": [
      "11111100\n",
      "111111100\n"
     ]
    }
   ],
   "source": [
    "def get_alpha_and_hex():\n",
    "    lst = []\n",
    "    count = 0\n",
    "    for i in range(10, 16):\n",
    "        lst.append([i, chr(65 + count)])\n",
    "        count += 1\n",
    "    return lst\n",
    "\n",
    "#print(get_alpha_and_hex())\n",
    "\n",
    "import math \n",
    "\n",
    "def den_to_bin(s):\n",
    "    def helper(ss):\n",
    "        if ss == 0:\n",
    "            return \"0\"\n",
    "        elif ss == 1:\n",
    "            return \"1\"\n",
    "        else:\n",
    "            if ss % 2 == 1: # leaves remainder\n",
    "                return \"1\" + helper(math.floor(ss / 2))\n",
    "            else:\n",
    "                return \"0\" + helper(int(ss / 2))\n",
    "            \n",
    "    return helper(s)[::-1]\n",
    "\n",
    "def hex_to_bin(hexx):\n",
    "    lstt = []\n",
    "    strr = \"\"\n",
    "    for ele in hexx:\n",
    "        if ele.isdigit():\n",
    "            lstt.append(int(ele))\n",
    "        for lst in get_alpha_and_hex():\n",
    "            if ele == lst[1]:\n",
    "                lstt.append(lst[0])\n",
    "                \n",
    "    # print(lstt)\n",
    "    for num in lstt:\n",
    "        strr += den_to_bin(num) \n",
    "    return strr\n",
    "\n",
    "print(hex_to_bin(\"FC\"))\n",
    "print(hex_to_bin(\"1FC\"))"
   ]
  },
  {
   "cell_type": "code",
   "execution_count": 55,
   "id": "4bf060b0",
   "metadata": {},
   "outputs": [
    {
     "ename": "SyntaxError",
     "evalue": "invalid syntax (<ipython-input-55-d92dde2b3d74>, line 1)",
     "output_type": "error",
     "traceback": [
      "\u001b[1;36m  File \u001b[1;32m\"<ipython-input-55-d92dde2b3d74>\"\u001b[1;36m, line \u001b[1;32m1\u001b[0m\n\u001b[1;33m    hex_to_bin(\"FC\")\t\"11111100\"\u001b[0m\n\u001b[1;37m                    \t         ^\u001b[0m\n\u001b[1;31mSyntaxError\u001b[0m\u001b[1;31m:\u001b[0m invalid syntax\n"
     ]
    }
   ],
   "source": [
    "hex_to_bin(\"FC\")\t\"11111100\"\t\n",
    "hex_to_bin(\"1FC\")\t\"111111100\"\t\n",
    "hex_to_bin(\"7C\")\t\"1111100\""
   ]
  },
  {
   "cell_type": "code",
   "execution_count": null,
   "id": "6e577c23",
   "metadata": {},
   "outputs": [],
   "source": [
    "Question 11: Number Converter - The Final Task!\n",
    "View Past Answers\n",
    "No past answers.\n",
    "Congratulations Heroes of CodeCraft! \n",
    "\n",
    "Now you have mastered the number conversion techniques, which is an essential skill for planets \n",
    "who have adopted different numeral systems to trade and communicate with each other. \n",
    "(Some aliens have only 2 fingers! While some others have up to 36 fingers!!)\n",
    "\n",
    "We would like you to leverage on your expertise to create a tool to help the all mighty Universe Council. \n",
    "The magical number converter should be able to convert numbers between various numeral systems.\n",
    "\n",
    "Your programme should provide the following functionalities:\n",
    "1. A user interface/menu providing necessary options and meaningful user feedback. Data validation processes \n",
    "should be put in place to ensure user always key in valid menu choices or valid numbers in the respective number systems.\n",
    "\n",
    "2. The program should be able to convert positive integers between numeral systems:\n",
    "a) Convert denary number to binary number and versa.\n",
    "b) Convert between binary, octal and hexadecimal numbers.\n",
    "c) Convert between any numeral systems.\n",
    "\n",
    "The Universe Council will reward you based on the following criteria:\n",
    "1. Accuracy of the system.\n",
    "2. Data validation with meaningful feedback prompt messages.\n",
    "3. User friendly interface.\n",
    "\n",
    "You may get bonus reward if your number system can cater to numbers with decimal points.\n",
    "\n",
    "Binary Fractions and Fractional Binary Numbers (electronics-tutorials.ws)"
   ]
  },
  {
   "cell_type": "code",
   "execution_count": null,
   "id": "dd7728a6",
   "metadata": {},
   "outputs": [],
   "source": [
    "def validate_option(uinput):\n",
    "    if len(uinput) == 0:  # Presence check\n",
    "        print(\"Presence check failed. Please do not enter an empty input.\")\n",
    "        return False\n",
    "    elif not uinput.isdigit():  # Type check\n",
    "        print(\"Type check failed. Please enter a digit.\")\n",
    "        return False\n",
    "    elif not 1 <= int(uinput) <= 7:  # Range check\n",
    "        print(\"Range check failed. Please key in an option in between 1 and 7.\")\n",
    "        return False\n",
    "    else:\n",
    "        return True\n",
    "    \n",
    "def validate_alpha(uinput):\n",
    "    if len(uinput) == 0:  # Presence check\n",
    "        print(\"Presence check failed. Please do not enter an empty input.\")\n",
    "        return False\n",
    "    elif not uinput.isalpha():  # Type check\n",
    "        print(\"Type check failed. Please enter an alphabet.\")\n",
    "        return False\n",
    "    else:\n",
    "        return True\n",
    "    \n",
    "def validate_digit(uinput):\n",
    "    if len(uinput) == 0:  # Presence check\n",
    "        print(\"Presence check failed. Please do not enter an empty input.\")\n",
    "        return False\n",
    "    elif not uinput.isdigit():  # Type check\n",
    "        print(\"Type check failed. Please enter digits only.\")\n",
    "        return False\n",
    "    else:\n",
    "        return True\n",
    "    \n",
    "def validate_general_input(uinput):\n",
    "    if len(uinput) == 0:  # Presence check\n",
    "        print(\"Presence check failed. Please do not enter an empty input.\")\n",
    "        return False\n",
    "    elif not uinput.isdigit() or uinput.isalpha():  # Type check\n",
    "        print(\"Type check failed. Please enter digits and alphabets only.\")\n",
    "        return False\n",
    "    else:\n",
    "        return True\n",
    "\n",
    "def valid_user_input(func, msg):\n",
    "    done = False\n",
    "    while not done:\n",
    "        uinput = input(msg)\n",
    "        done = func(uinput)\n",
    "    return uinput\n",
    "\n",
    "def check_binary(uinput):\n",
    "    lst = list(uinput)\n",
    "    #print(lst)\n",
    "    for c in lst:\n",
    "        if c == \"0\" or c == \"1\":\n",
    "            return True\n",
    "    print(\"Not a valid binary. Please enter 1s or 0s only.\")\n",
    "    return False\n",
    "\n",
    "def display_menu():\n",
    "    menu_dis = \"\"\"\n",
    "    1) Convert denary number to binary number \n",
    "    2) Convert binary number to denary number \n",
    "    3) Convert binary to octal number\n",
    "    4) Convert octal to hexadecimal number\n",
    "    5) Convert binary to hexadecimal number\n",
    "    6) Convert between any numeral systems.\n",
    "    7) Quit\n",
    "    \"\"\"\n",
    "    print(menu_dis)\n",
    "    \n",
    "def menu():\n",
    "    done = False\n",
    "    while not done:\n",
    "        display_menu()\n",
    "        uinput = int(valid_user_input(validate_option, \"Please select an option from 1 to 7: \")) \n",
    "        if uinput == 1: #dentobin\n",
    "            curinput = int(valid_user_input(validate_digit, \"Please input a denary number: \"))\n",
    "            res = den_to_bin(curinput)\n",
    "            print(\"The binary number is \" + str(res) + \".\")\n",
    "        elif uinput == 2: #bintoden\n",
    "            curinput = valid_user_input(check_binary, \"Please input a binary number: \")\n",
    "            res = bin_to_den(curinput)\n",
    "            print(\"The denary number is \" + str(res) + \".\")\n",
    "        elif uinput == 3: #bintooct\n",
    "            curinput = valid_user_input(check_binary, \"Please input a binary number: \")\n",
    "            temp = any_to_den(curinput, 2)\n",
    "            res = den_to_any(temp, 8)\n",
    "            print(\"The octal number is \" + str(res) + \".\")\n",
    "        elif uinput == 4: #octtohex\n",
    "            curinput = valid_user_input(validate_digit, \"Please input an octal number: \")\n",
    "            temp = any_to_den(curinput, 8)\n",
    "            res = den_to_any(temp, 16)\n",
    "            print(\"The denary number is \" + str(res) + \".\")\n",
    "        elif uinput == 5: #bintohex\n",
    "            curinput = valid_user_input(check_binary, \"Please input a binary number: \")\n",
    "            res = bin_to_hex(curinput)\n",
    "            print(\"The hexadecimal number is \" + str(res) + \".\")\n",
    "        elif uinput == 6: #any\n",
    "            basestart = int(valid_user_input(validate_digit, \"Please type in the base number of the number you would like to convert.\\\n",
    "                                         (EG: Type 2 to convert from binary form): \"))\n",
    "            if basestart != 16:\n",
    "                curinput = valid_user_input(validate_digit, \"Please input a number: \")\n",
    "            else:\n",
    "                curinput = valid_user_input(validate_general_input, \"Please input a number: \")\n",
    "            baseend = int(valid_user_input(validate_digit, \"Please type in the base number that you would like to convert to.\\\n",
    "                                         (EG: Type 2 to convert to binary form): \"))\n",
    "            if basestart != 10:\n",
    "                temp1 = any_to_den(curinput, basestart)\n",
    "            else:\n",
    "                temp1 = curinput\n",
    "            res = den_to_any(temp1, baseend)\n",
    "            print(\"The result is \" + str(res) + \".\")\n",
    "        elif uinput == 7:\n",
    "            print(\"Thank you for using the programme! See you next time!\")\n",
    "            done = True\n",
    "\n",
    "            \n",
    "menu()"
   ]
  },
  {
   "cell_type": "code",
   "execution_count": null,
   "id": "116b208d",
   "metadata": {},
   "outputs": [],
   "source": []
  }
 ],
 "metadata": {
  "kernelspec": {
   "display_name": "Python 3.7.4 64-bit",
   "language": "python",
   "name": "python3"
  },
  "language_info": {
   "codemirror_mode": {
    "name": "ipython",
    "version": 3
   },
   "file_extension": ".py",
   "mimetype": "text/x-python",
   "name": "python",
   "nbconvert_exporter": "python",
   "pygments_lexer": "ipython3",
   "version": "3.7.4"
  },
  "vscode": {
   "interpreter": {
    "hash": "82d4c6f819cf47785f735f902f00da8643513d08dab4f4c7470bccf934b8d2d6"
   }
  }
 },
 "nbformat": 4,
 "nbformat_minor": 5
}
